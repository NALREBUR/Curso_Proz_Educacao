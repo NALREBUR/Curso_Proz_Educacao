{
  "nbformat": 4,
  "nbformat_minor": 0,
  "metadata": {
    "colab": {
      "provenance": [],
      "authorship_tag": "ABX9TyNZ+sEo64nl16VIxRJ2weif",
      "include_colab_link": true
    },
    "kernelspec": {
      "name": "python3",
      "display_name": "Python 3"
    },
    "language_info": {
      "name": "python"
    }
  },
  "cells": [
    {
      "cell_type": "markdown",
      "metadata": {
        "id": "view-in-github",
        "colab_type": "text"
      },
      "source": [
        "<a href=\"https://colab.research.google.com/github/NALREBUR/Curso_Proz_Educacao/blob/main/Untitled1.ipynb\" target=\"_parent\"><img src=\"https://colab.research.google.com/assets/colab-badge.svg\" alt=\"Open In Colab\"/></a>"
      ]
    },
    {
      "cell_type": "code",
      "execution_count": null,
      "metadata": {
        "id": "dAIkEnGHL7JT"
      },
      "outputs": [],
      "source": [
        "Copy code\n",
        "def calculadora():\n",
        "    while True:\n",
        "        print(\"1: Soma\\n2: Subtração\\n3: Multiplicação\\n4: Divisão\\n0: Sair\")\n",
        "        operacao = int(input(\"Digite o número para a operação correspondente: \"))\n",
        "        \n",
        "        if operacao == 0:\n",
        "            print(\"Saindo...\")\n",
        "            break\n",
        "        \n",
        "        if operacao < 1 or operacao > 4:\n",
        "            print(\"Essa opção não existe\")\n",
        "            continue\n",
        "        \n",
        "        num1 = float(input(\"Digite o primeiro valor: \"))\n",
        "        num2 = float(input(\"Digite o segundo valor: \"))\n",
        "        \n",
        "        if operacao == 1:\n",
        "            resultado = num1 + num2\n",
        "            print(\"O resultado da soma é:\", resultado)\n",
        "        elif operacao == 2:\n",
        "            resultado = num1 - num2\n",
        "            print(\"O resultado da subtração é:\", resultado)\n",
        "        elif operacao == 3:\n",
        "            resultado = num1 * num2\n",
        "            print(\"O resultado da multiplicação é:\", resultado)\n",
        "        elif operacao == 4:\n",
        "            if num2 == 0:\n",
        "                print(\"Não é possível dividir por zero\")\n",
        "            else:\n",
        "                resultado = num1 / num2\n",
        "                print(\"O resultado da divisão é:\", resultado)"
      ]
    }
  ]
}