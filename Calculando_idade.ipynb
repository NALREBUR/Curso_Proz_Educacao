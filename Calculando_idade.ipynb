{
  "nbformat": 4,
  "nbformat_minor": 0,
  "metadata": {
    "colab": {
      "provenance": [],
      "authorship_tag": "ABX9TyNXKzCS7a534Ja2kGZ9rmtv",
      "include_colab_link": true
    },
    "kernelspec": {
      "name": "python3",
      "display_name": "Python 3"
    },
    "language_info": {
      "name": "python"
    }
  },
  "cells": [
    {
      "cell_type": "markdown",
      "metadata": {
        "id": "view-in-github",
        "colab_type": "text"
      },
      "source": [
        "<a href=\"https://colab.research.google.com/github/NALREBUR/Curso_Proz_Educacao/blob/main/Calculando_idade.ipynb\" target=\"_parent\"><img src=\"https://colab.research.google.com/assets/colab-badge.svg\" alt=\"Open In Colab\"/></a>"
      ]
    },
    {
      "cell_type": "code",
      "execution_count": 4,
      "metadata": {
        "colab": {
          "base_uri": "https://localhost:8080/"
        },
        "id": "UqO75OaiTlGu",
        "outputId": "24b7acda-ba8d-4d3c-c9e6-928d025d0155"
      },
      "outputs": [
        {
          "output_type": "stream",
          "name": "stdout",
          "text": [
            "Digite seu nome completo: Ruberlan Dias\n",
            "Digite seu ano de nascimento (entre 1922 e 2021): 1980\n",
            "Olá, Ruberlan Dias! Você tem 43 anos.\n"
          ]
        }
      ],
      "source": [
        "import datetime\n",
        "\n",
        "def calcular_idade(ano_nascimento):\n",
        "    ano_atual = datetime.datetime.now().year\n",
        "    idade = ano_atual - ano_nascimento\n",
        "    return idade\n",
        "\n",
        "while True:\n",
        "    nome_completo = input(\"Digite seu nome completo: \")\n",
        "    try:\n",
        "        ano_nascimento = int(input(\"Digite seu ano de nascimento (entre 1922 e 2021): \"))\n",
        "        if ano_nascimento >= 1922 and ano_nascimento <= 2021:\n",
        "            idade = calcular_idade(ano_nascimento)\n",
        "            print(f\"Olá, {nome_completo}! Você tem {idade} anos.\")\n",
        "            break\n",
        "        else:\n",
        "            print(\"Ano de nascimento inválido. Tente novamente.\")\n",
        "    except ValueError:\n",
        "        print(\"Ano de nascimento inválido. Tente novamente.\")"
      ]
    }
  ]
}